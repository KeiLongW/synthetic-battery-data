{
 "cells": [
  {
   "cell_type": "code",
   "execution_count": null,
   "metadata": {},
   "outputs": [],
   "source": [
    "import sys\n",
    "import os \n",
    "\n",
    "import numpy as np\n",
    "import torch\n",
    "%matplotlib inline\n",
    "import matplotlib.pyplot as plt\n",
    "\n",
    "from train_lstm_gan import TrainLSTMGAN\n",
    "\n",
    "from lg_dataset import LGDataset\n",
    "\n",
    "import json\n",
    "import math\n",
    "\n",
    "from sklearn.manifold import TSNE\n",
    "from sklearn.decomposition import PCA\n",
    "\n",
    "import pandas as pd\n",
    "from tensorflow import keras"
   ]
  },
  {
   "cell_type": "code",
   "execution_count": null,
   "metadata": {},
   "outputs": [],
   "source": [
    "EVAL_BEST = False"
   ]
  },
  {
   "cell_type": "code",
   "execution_count": null,
   "metadata": {},
   "outputs": [],
   "source": [
    "results = {}\n",
    "\n",
    "for item in os.listdir('.'):\n",
    "  if not os.path.isdir(item): continue\n",
    "  if not item.endswith('_epoch'): continue\n",
    "  epoch = int(item.split('_')[0])\n",
    "  \n",
    "  results[epoch] = {\n",
    "    'fake_data': np.load(item + '/fake_data.npy'),\n",
    "    'pca_fake': np.load(item + '/pca_fake.npy'),\n",
    "    'pca_real': np.load(item + '/pca_real.npy'),\n",
    "    'tsne_fake': np.load(item + '/tsne_fake.npy'),\n",
    "    'tsne_real': np.load(item + '/tsne_real.npy')\n",
    "  }\n",
    "  \n",
    "result_epochs = list(results.keys())\n",
    "result_epochs.sort()"
   ]
  },
  {
   "attachments": {},
   "cell_type": "markdown",
   "metadata": {},
   "source": [
    "## Loss"
   ]
  },
  {
   "cell_type": "code",
   "execution_count": null,
   "metadata": {},
   "outputs": [],
   "source": [
    "d_loss_path = 'd_loss.json'\n",
    "g_loss_path = 'g_loss.json'\n",
    "\n",
    "if EVAL_BEST:\n",
    "  d_best_path = 'best_discriminator.json'\n",
    "  g_best_path = 'best_generator.json'\n",
    "\n",
    "with open(d_loss_path) as f:\n",
    "  d_loss = json.load(f)\n",
    "with open(g_loss_path) as f:\n",
    "  g_loss = json.load(f)\n",
    "\n",
    "if EVAL_BEST:\n",
    "  with open(d_best_path) as f:\n",
    "    d_best = json.load(f)\n",
    "  with open(g_best_path) as f:\n",
    "    g_best = json.load(f)\n",
    "  \n",
    "plt.plot(g_loss, label='generator loss')\n",
    "plt.plot(d_loss, label='discriminator loss')\n",
    "\n",
    "if EVAL_BEST:\n",
    "  plt.scatter(g_best['epoch']-1, g_best['loss'], label='best generator')\n",
    "  plt.scatter(d_best['epoch']-1, d_best['loss'], label='best discriminator')\n",
    "plt.legend()\n",
    "plt.show()"
   ]
  },
  {
   "attachments": {},
   "cell_type": "markdown",
   "metadata": {},
   "source": [
    "## Data Visualization"
   ]
  },
  {
   "cell_type": "code",
   "execution_count": null,
   "metadata": {},
   "outputs": [],
   "source": [
    "real_dataset = LGDataset('../../data/lg_600_data.npy')\n",
    "fig = plt.figure(figsize=(15,3), dpi=150)\n",
    "ax = fig.add_subplot()\n",
    "ax.plot(real_dataset.data[0][:300])\n",
    "ax.set_title('Real data')"
   ]
  },
  {
   "cell_type": "code",
   "execution_count": null,
   "metadata": {},
   "outputs": [],
   "source": [
    "fig = plt.figure(figsize=(15, 3*len(result_epochs)), dpi=150)\n",
    "for i, epoch in enumerate(result_epochs):\n",
    "  ax_fake_data = fig.add_subplot(len(result_epochs), 1, i+1)\n",
    "  ax_fake_data.plot(results[epoch]['fake_data'][0])\n",
    "  ax_fake_data.set_title(f'Synthetic data (epoch:{epoch})')"
   ]
  },
  {
   "cell_type": "markdown",
   "metadata": {},
   "source": [
    "## Data Distribution"
   ]
  },
  {
   "cell_type": "code",
   "execution_count": null,
   "metadata": {},
   "outputs": [],
   "source": [
    "fig = plt.figure(figsize=(15, 5*len(result_epochs)), dpi=150)\n",
    "for i, epoch in enumerate(result_epochs):\n",
    "  ax_pca = fig.add_subplot(len(result_epochs), 2, i*2+1)\n",
    "  ax_pca.scatter(results[epoch]['pca_real'][:,0], results[epoch]['pca_real'][:,1], alpha=0.2, c='r', label='Real')\n",
    "  ax_pca.scatter(results[epoch]['pca_fake'][:,0], results[epoch]['pca_fake'][:,1], alpha=0.2, c='b', label='Synthetic')\n",
    "  ax_pca.legend()\n",
    "  ax_pca.set_title(f'PCA (epoch:{epoch})')\n",
    "  \n",
    "  ax_tsne = fig.add_subplot(len(result_epochs), 2, i*2+2)\n",
    "  ax_tsne.scatter(results[epoch]['tsne_real'][:,0], results[epoch]['tsne_real'][:,1], alpha=0.2, c='r', label='Real')\n",
    "  ax_tsne.scatter(results[epoch]['tsne_fake'][:,0], results[epoch]['tsne_fake'][:,1], alpha=0.2, c='b', label='Synthetic')\n",
    "  ax_tsne.legend()\n",
    "  ax_tsne.set_title(f't-SNE (epoch:{epoch})')"
   ]
  }
 ],
 "metadata": {
  "kernelspec": {
   "display_name": "Python 3",
   "language": "python",
   "name": "python3"
  },
  "language_info": {
   "codemirror_mode": {
    "name": "ipython",
    "version": 3
   },
   "file_extension": ".py",
   "mimetype": "text/x-python",
   "name": "python",
   "nbconvert_exporter": "python",
   "pygments_lexer": "ipython3",
   "version": "3.9.12 (main, Mar 26 2022, 15:44:31) \n[Clang 13.1.6 (clang-1316.0.21.2)]"
  },
  "orig_nbformat": 4,
  "vscode": {
   "interpreter": {
    "hash": "b0fa6594d8f4cbf19f97940f81e996739fb7646882a419484c72d19e05852a7e"
   }
  }
 },
 "nbformat": 4,
 "nbformat_minor": 2
}
